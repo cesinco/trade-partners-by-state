{
 "cells": [
  {
   "cell_type": "markdown",
   "metadata": {},
   "source": [
    "# Primary Import and Export Countries by State\n",
    "\n",
    "Following the announcement by the new administration to raise tariffs on Canada, Mexico, and China (and the not entirely unexpected retaliatory measures from those targeted countries), it would be interesting to know which countries are the primary sources and destinations for imports and exports.\n",
    "\n",
    "This data can be obtained from the US government’s International Trade Administration at trade.gov however, it is not easily obtained since the APIs made available to the public do not have any endpoints to access this type of data. Instead, we will have to resort to scraping the data from where it is available – a web page located at:\n",
    "\n",
    "[https://tsereports.trade.gov/views/StateAnnualDashboardLive_16421978287720/StateTradebyProduct?%3AshowVizHome=no&%3Aembed=true&%3Atoolbar=yes%2Ctop](https://tsereports.trade.gov/views/StateAnnualDashboardLive_16421978287720/StateTradebyProduct?%3AshowVizHome=no&%3Aembed=true&%3Atoolbar=yes%2Ctop)\n",
    "\n",
    "As is often the case with scraping web pages, the data is buried deep within the structure making it unfeasible to use quick and dirty methods like grabbing a table from a webpage using native Pandas functionality. Furthermore, the data on this page is displayed only a single state at a time and requires interacting with the webpage to modify filters. Selenium to the rescue!\n",
    "\n",
    "After acquiring the data, we also want to display it graphically using a map of the USA to show each state’s dependence on their primary export and import partners. For this, we will employ Choropleth maps."
   ]
  },
  {
   "cell_type": "code",
   "execution_count": 1,
   "metadata": {},
   "outputs": [],
   "source": [
    "import requests\n",
    "\n",
    "api_key = \"ENTERYOURAPIKEYHERE\""
   ]
  },
  {
   "cell_type": "markdown",
   "metadata": {},
   "source": [
    "The following attempt fails because even though the variables used come from the documented set of variables at [https://api.census.gov/data/timeseries/intltrade/exports/enduse/variables.html](https://api.census.gov/data/timeseries/intltrade/exports/enduse/variables.html) and otherwise accessing the API directly as an https query using [https://api.census.gov/data/timeseries/intltrade/exports/enduse?get=ALL_VAL_YR,DISTRICT,DIST_NAME&time=2023&key=YOUR_API_KEY_HERE](https://api.census.gov/data/timeseries/intltrade/exports/enduse?get=ALL_VAL_YR,DISTRICT,DIST_NAME&time=2023&key=YOUR_API_KEY_HERE), the programmatic API call fails. In any case, it doesn't provide the state by state export totals nor the destination countries."
   ]
  },
  {
   "cell_type": "raw",
   "metadata": {
    "vscode": {
     "languageId": "raw"
    }
   },
   "source": [
    "# Define the base URL for the API\n",
    "base_url = \"https://api.census.gov/data/timeseries/intltrade/exports/statenaics\"\n",
    "\n",
    "# Specify the parameters for the request\n",
    "params = {\n",
    "      'get': 'ALL_VAL_YR,DISTRICT,DIST_NAME'\n",
    "      #'get': 'NAME,VALUE'\n",
    "    #, 'for': 'state:*'\n",
    "    , 'time': '2023'\n",
    "    , 'key': api_key\n",
    "}\n",
    "\n",
    "# Make the GET request\n",
    "response = requests.get(base_url, params=params)\n",
    "\n",
    "# Check if the request was successful\n",
    "if response.status_code == 200:\n",
    "    data = response.json()\n",
    "    # Print the data\n",
    "    for item in data:\n",
    "        print(item)\n",
    "else:\n",
    "    print(f\"Error: {response.status_code}\")"
   ]
  },
  {
   "cell_type": "markdown",
   "metadata": {},
   "source": [
    "So instead, we will use selenium with chromedriver to access the page located at [https://www.trade.gov/data-visualization/tradestats-express-state-trade-product](https://www.trade.gov/data-visualization/tradestats-express-state-trade-product) although that page is simply a container for n iframe whose contents are actually located at [https://tsereports.trade.gov/views/StateAnnualDashboardLive_16421978287720/StateTradebyProduct?%3AshowVizHome=no&%3Aembed=true&%3Atoolbar=yes%2Ctop](https://tsereports.trade.gov/views/StateAnnualDashboardLive_16421978287720/StateTradebyProduct?%3AshowVizHome=no&%3Aembed=true&%3Atoolbar=yes%2Ctop)"
   ]
  },
  {
   "cell_type": "markdown",
   "metadata": {},
   "source": [
    "For testing the validity of XPath expressions to extract content using Selenium, we can use JavaScript code\n",
    "\n",
    "For example, on the page https://www.cnn.com/election/2024/results/florida\n",
    "\n",
    "```js\n",
    "counties_link = document.evaluate('//a[text()=\"See county results\"]', document, null, XPathResult.FIRST_ORDERED_NODE_TYPE, null);\n",
    "counties_link.singleNodeValue;\n",
    "```\n",
    "\n",
    "After navigating to the County results, use additional JavaScript code to find the table we want to access, and extract the values from it that we need\n",
    "\n",
    "For example, on the page https://www.cnn.com/election/2024/results/florida/president\n",
    "\n",
    "```js\n",
    "curr_state_votes = []\n",
    "\n",
    "rows = document.evaluate('//h2[text()=\"Results by county\"]/following-sibling::div/table/tbody/tr', document, null, XPathResult.ORDERED_NODE_SNAPSHOT_TYPE, null);\n",
    "\n",
    "for(r=0, r<rows.snapshotLength, r++) {\n",
    "    curr_row = rows.snapshotItem(r);\n",
    "    county_name = document.evaluate('th/div/text()', curr_row, null, XPathResult.FIRST_ORDERED_NODE_TYPE, null).singleNodeValue.data;\n",
    "    curr_cells = document.evaluate('td', curr_row, null, XPathResult.ORDERED_NODE_SNAPSHOT_TYPE, null);\n",
    "\n",
    "    curr_dem = curr_cells.snapshotItem(0);\n",
    "    curr_dem_divs = document.evaluate('div', curr_dem, null, XPathResult.ORDERED_NODE_SNAPSHOT_TYPE, null);\n",
    "    curr_dem_percent = (parseFloat(curr_dem_divs.snapshotItem(0).innerText) / 100.0).toFixed(3);\n",
    "    curr_dem_votecnt = parseInt(curr_dem_divs.snapshotItem(1).innerText.replace(\",\", \"\"));\n",
    "\n",
    "    curr_rep = curr_cells.snapshotItem(curr_cells.snapshotLength - 1);\n",
    "    curr_rep_divs = document.evaluate('div', curr_rep, null, XPathResult.ORDERED_NODE_SNAPSHOT_TYPE, null);\n",
    "    curr_rep_percent = (parseFloat(curr_rep_divs.snapshotItem(0).innerText) / 100.0).toFixed(3);\n",
    "    curr_rep_votecnt = parseInt(curr_rep_divs.snapshotItem(1).innerText.replace(\",\", \"\"));\n",
    "\n",
    "    curr_state_votes.push({statename: \"florida\", countyname: county_name, dempercent: curr_dem_percent, demvotecnt: curr_dem_votecnt, reppercent: curr_rep_percent, repvotecnt: curr_rep_votecnt});\n",
    "}\n",
    "```"
   ]
  },
  {
   "cell_type": "code",
   "execution_count": 2,
   "metadata": {},
   "outputs": [],
   "source": [
    "# Import the libraries we will use to scrape symbol data\n",
    "import io\n",
    "import os\n",
    "import glob\n",
    "import re\n",
    "import csv\n",
    "\n",
    "from chromedriver_py import binary_path # This gets the path to the chromedriver executable\n",
    "from selenium import webdriver\n",
    "from selenium.webdriver.common.by import By\n",
    "from selenium.webdriver.support.ui import WebDriverWait\n",
    "from selenium.webdriver.support import expected_conditions as EC\n",
    "from selenium.common.exceptions import TimeoutException, NoSuchElementException\n",
    "from selenium.webdriver.chrome.service import Service\n",
    "from selenium.webdriver.chrome.options import Options\n",
    "\n",
    "import time\n",
    "from datetime import datetime, timedelta, timezone\n",
    "import pandas as pd\n",
    "\n",
    "# For plotting USA map\n",
    "import plotly.express as px"
   ]
  },
  {
   "cell_type": "markdown",
   "metadata": {},
   "source": [
    "The above also will work only partially because the trade website uses Tableau for generating these reports and the value of the exports, although displayed, cannot be obtained by using XPath (possibly generated on the fly with JavaScript?). So, we can get the ranking of export destination, but without the value of the exports."
   ]
  },
  {
   "cell_type": "code",
   "execution_count": 3,
   "metadata": {},
   "outputs": [
    {
     "data": {
      "text/plain": [
       "'C:\\\\Users\\\\cesin\\\\AppData\\\\Roaming\\\\Python\\\\Python311\\\\site-packages\\\\chromedriver_py\\\\chromedriver_win64.exe'"
      ]
     },
     "execution_count": 3,
     "metadata": {},
     "output_type": "execute_result"
    }
   ],
   "source": [
    "# Let's check where the chromedriver executable was installed\n",
    "\n",
    "binary_path"
   ]
  },
  {
   "cell_type": "code",
   "execution_count": 4,
   "metadata": {},
   "outputs": [
    {
     "data": {
      "text/plain": [
       "'C:/Users/cesin/AppData/Roaming/Python/Python311/site-packages/chromedriver_py'"
      ]
     },
     "execution_count": 4,
     "metadata": {},
     "output_type": "execute_result"
    }
   ],
   "source": [
    "CHROMEDRIVER_USER_DIR_PATH = \"/\".join(binary_path.split(\"\\\\\")[:-1])\n",
    "CHROMEDRIVER_USER_DIR_PATH"
   ]
  },
  {
   "cell_type": "code",
   "execution_count": 5,
   "metadata": {},
   "outputs": [],
   "source": [
    "# Setup our timeouts\n",
    "\n",
    "timeout = 30\n",
    "pause = 3"
   ]
  },
  {
   "cell_type": "code",
   "execution_count": 6,
   "metadata": {},
   "outputs": [],
   "source": [
    "# We need a translation dictionary from state name to state abbreviation (for mapping)\n",
    "\n",
    "dic_states = {\n",
    "\t  \"Alabama\": \"AL\"\n",
    "\t, \"Alaska\": \"AK\"\n",
    "\t, \"Arizona\": \"AZ\"\n",
    "\t, \"Arkansas\": \"AR\"\n",
    "\t, \"California\": \"CA\"\n",
    "\t, \"Colorado\": \"CO\"\n",
    "\t, \"Connecticut\": \"CT\"\n",
    "\t, \"Delaware\": \"DE\"\n",
    "\t, \"District of Columbia\": \"DC\"\n",
    "\t, \"Florida\": \"FL\"\n",
    "\t, \"Georgia\": \"GA\"\n",
    "\t, \"Hawaii\": \"HI\"\n",
    "\t, \"Idaho\": \"ID\"\n",
    "\t, \"Illinois\": \"IL\"\n",
    "\t, \"Indiana\": \"IN\"\n",
    "\t, \"Iowa\": \"IA\"\n",
    "\t, \"Kansas\": \"KS\"\n",
    "\t, \"Kentucky\": \"KY\"\n",
    "\t, \"Louisiana\": \"LA\"\n",
    "\t, \"Maine\": \"ME\"\n",
    "\t, \"Maryland\": \"MD\"\n",
    "\t, \"Massachusetts\": \"MA\"\n",
    "\t, \"Michigan\": \"MI\"\n",
    "\t, \"Minnesota\": \"MN\"\n",
    "\t, \"Mississippi\": \"MS\"\n",
    "\t, \"Missouri\": \"MO\"\n",
    "\t, \"Montana\": \"MT\"\n",
    "\t, \"Nebraska\": \"NE\"\n",
    "\t, \"Nevada\": \"NV\"\n",
    "\t, \"New Hampshire\": \"NH\"\n",
    "\t, \"New Jersey\": \"NJ\"\n",
    "\t, \"New Mexico\": \"NM\"\n",
    "\t, \"New York\": \"NY\"\n",
    "\t, \"North Carolina\": \"NC\"\n",
    "\t, \"North Dakota\": \"ND\"\n",
    "\t, \"Ohio\": \"OH\"\n",
    "\t, \"Oklahoma\": \"OK\"\n",
    "\t, \"Oregon\": \"OR\"\n",
    "\t, \"Pennsylvania\": \"PA\"\n",
    "    , \"Puerto Rico\": \"PR\"\n",
    "\t, \"Rhode Island\": \"RI\"\n",
    "\t, \"South Carolina\": \"SC\"\n",
    "\t, \"South Dakota\": \"SD\"\n",
    "\t, \"Tennessee\": \"TN\"\n",
    "\t, \"Texas\": \"TX\"\n",
    "\t, \"Utah\": \"UT\"\n",
    "\t, \"Vermont\": \"VT\"\n",
    "\t, \"Virginia\": \"VA\"\n",
    "\t, \"Washington\": \"WA\"\n",
    "\t, \"West Virginia\": \"WV\"\n",
    "\t, \"Wisconsin\": \"WI\"\n",
    "\t, \"Wyoming\": \"WY\"\n",
    "}"
   ]
  },
  {
   "cell_type": "code",
   "execution_count": 7,
   "metadata": {},
   "outputs": [],
   "source": [
    "chrome_options = Options()\n",
    "# See list of options/switches for Chrome here:\n",
    "# https://peter.sh/experiments/chromium-command-line-switches/\n",
    "#chrome_options.add_argument(\"--headless\") # Run with any UI\n",
    "chrome_options.add_argument(\"--start-maximized\") # Maximize the window to fit to the screen\n",
    "chrome_options.add_argument(\"--disable-extensions\")\n",
    "chrome_options.add_argument(\"--user-data-dir=\" + CHROMEDRIVER_USER_DIR_PATH)\n",
    "#driver = webdriver.Chrome(executable_path=CHROMEDRIVER_EXECUTABLE_PATH, chrome_options=chrome_options)\n",
    "webdriver.ChromeOptions = chrome_options\n",
    "driver = webdriver.Chrome()\n",
    "driver.set_window_size(1920, 1080)"
   ]
  },
  {
   "cell_type": "code",
   "execution_count": 8,
   "metadata": {},
   "outputs": [],
   "source": [
    "# Set the base URL\n",
    "\n",
    "url = \"https://tsereports.trade.gov/views/StateAnnualDashboardLive_16421978287720/StateTradebyProduct?%3AshowVizHome=no&%3Aembed=true&%3Atoolbar=yes%2Ctop\""
   ]
  },
  {
   "cell_type": "code",
   "execution_count": 9,
   "metadata": {},
   "outputs": [
    {
     "data": {
      "text/plain": [
       "<selenium.webdriver.remote.webelement.WebElement (session=\"b565afb48f2e0f253622c7c9984fb0ac\", element=\"f.FCA9037E6A5AE9B14D92F84C370D48E3.d.1DED1D2DB15D0697693D9344DE350F35.e.44\")>"
      ]
     },
     "execution_count": 9,
     "metadata": {},
     "output_type": "execute_result"
    }
   ],
   "source": [
    "# Load the initial web page from the base URL\n",
    "\n",
    "wait = WebDriverWait(driver, timeout)\n",
    "driver.get(url)\n",
    "#WebDriverWait(driver=driver, timeout=timeout).until(EC.visibility_of_element_located((By.XPATH, '//div[@class=\"tab-tvView tvimagesNS\" and @role=\"region\"]')))\n",
    "WebDriverWait(driver=driver, timeout=timeout).until(EC.visibility_of_element_located((By.XPATH, '//div[@id=\"tableau_base_widget_ParameterControl_2\"]//div[@class=\"tabComboBoxNameContainer tab-ctrl-formatted-fixedsize\"]/span')))"
   ]
  },
  {
   "cell_type": "code",
   "execution_count": 10,
   "metadata": {},
   "outputs": [
    {
     "data": {
      "text/plain": [
       "<selenium.webdriver.remote.webelement.WebElement (session=\"b565afb48f2e0f253622c7c9984fb0ac\", element=\"f.FCA9037E6A5AE9B14D92F84C370D48E3.d.1DED1D2DB15D0697693D9344DE350F35.e.44\")>"
      ]
     },
     "execution_count": 10,
     "metadata": {},
     "output_type": "execute_result"
    }
   ],
   "source": [
    "years_since = driver.find_element(By.XPATH, '//div[@id=\"tableau_base_widget_ParameterControl_2\"]//div[@class=\"tabComboBoxNameContainer tab-ctrl-formatted-fixedsize\"]/span')\n",
    "years_since"
   ]
  },
  {
   "cell_type": "code",
   "execution_count": 11,
   "metadata": {},
   "outputs": [
    {
     "data": {
      "text/plain": [
       "'2017'"
      ]
     },
     "execution_count": 11,
     "metadata": {},
     "output_type": "execute_result"
    }
   ],
   "source": [
    "# Display the oldest year in the data being displayed\n",
    "#  \n",
    "years_since.text"
   ]
  },
  {
   "cell_type": "code",
   "execution_count": 12,
   "metadata": {},
   "outputs": [],
   "source": [
    "# Click on the year combobox to change to the most recent year (as of this writing, 2023)\n",
    "\n",
    "years_since.click()"
   ]
  },
  {
   "cell_type": "code",
   "execution_count": 13,
   "metadata": {},
   "outputs": [],
   "source": [
    "# Bty clicking ont he current year, it will open the combobox allowing us to select the target year\n",
    "\n",
    "years_combo = driver.find_element(By.XPATH, '//div[@role=\"menu\" and @aria-label=\"Start Year:\"]')"
   ]
  },
  {
   "cell_type": "code",
   "execution_count": 14,
   "metadata": {},
   "outputs": [],
   "source": [
    "# Locate the combobox item representing the year 2023\n",
    "\n",
    "year_2023 = years_combo.find_element(By.XPATH, './div[@class=\"tabMenuContent\"]//span[text() = \"2023\"]')\n",
    "year_2023.click()\n",
    "\n",
    "# Force Python to sleep (note that this is necessary as the drive wait doesn't pause execution)\n",
    "time.sleep(pause)"
   ]
  },
  {
   "cell_type": "code",
   "execution_count": 15,
   "metadata": {},
   "outputs": [],
   "source": [
    "# Set up our dictionary for export countries by state\n",
    "state_exports = {}\n",
    "\n",
    "# Loop until the last state is clicked\n",
    "while True:\n",
    "\n",
    "    # Get the list of countries being displayed and choose the 1st item (the 0th item is a header)\n",
    "    top_countries = driver.find_elements(By.XPATH, '//div[@class=\"tab-tvYLabel tvimagesNS\"]/div[@class=\"tab-ReactView\"]/div[@class=\"tab-vizLeftSceneMargin\"]//div[@class=\"tab-vizHeaderWrapper\"]')\n",
    "    curr_export_dest = top_countries[1].text\n",
    "\n",
    "    # Delete the overlaid div that prevents the element from being clicked\n",
    "    delete_elements = driver.find_elements(By.XPATH, '//div[@class=\"wcGlassPane\"]') # id=\"loadingGlassPane\"\n",
    "    if len(delete_elements) > 0:\n",
    "        driver.execute_script(\"\"\"\n",
    "            var element = arguments[0];\n",
    "            element.parentNode.removeChild(element);\n",
    "        \"\"\", delete_elements[0])\n",
    "\n",
    "    # Wait until the JavaScript code deletes the element\n",
    "    #wait = WebDriverWait(driver, pause)\n",
    "    time.sleep(pause)\n",
    "\n",
    "    # Locate the currently displayed state and click it (this will open the combobox of states again)\n",
    "    WebDriverWait(driver=driver, timeout=timeout).until(EC.element_to_be_clickable((By.XPATH, '//div[@id=\"tableau_base_widget_ParameterControl_1\"]//div[@class=\"tabComboBoxNameContainer tab-ctrl-formatted-fixedsize\"]/span')))\n",
    "    curr_state = driver.find_element(By.XPATH, '//div[@id=\"tableau_base_widget_ParameterControl_1\"]//div[@class=\"tabComboBoxNameContainer tab-ctrl-formatted-fixedsize\"]/span')\n",
    "    curr_state.click()\n",
    "    \n",
    "    # Locate the State combobox\n",
    "    state_combo = driver.find_element(By.XPATH, '//div[@role=\"menu\" and @aria-label=\"State:\"]')\n",
    "\n",
    "    # Save the name of the currently selected state and use it to add an entry into the dictionary\n",
    "    curr_state_text = curr_state.text\n",
    "    state_exports[dic_states[curr_state_text]] = [curr_state_text, curr_export_dest]\n",
    "\n",
    "    # Now find the next element in the combobox based on the currently selected coombobox element (use following-sibling to navigate to the next one)\n",
    "    state_curr = state_combo.find_element(By.XPATH, f'./div[@class=\"tabMenuContent\"]//span[text() = \"{curr_state.text}\"]')\n",
    "    state_next = state_curr.find_elements(By.XPATH, f'../../following-sibling::*')\n",
    "\n",
    "    # Break out of the loop once the last state has been reached and there are no \"following-siblings\"\n",
    "    if len(state_next) < 1:\n",
    "        state_curr.click() # Close the combo box\n",
    "        break\n",
    "\n",
    "    # Since there are still some states remaining that we haven't visited yet, click on the next state name\n",
    "    state_next[0].click()\n",
    "\n",
    "    # Pause to allow the screen to reload with new data pertinent to the state\n",
    "    time.sleep(pause)"
   ]
  },
  {
   "cell_type": "code",
   "execution_count": 16,
   "metadata": {},
   "outputs": [],
   "source": [
    "# Now, let's do the imports\n",
    "\n",
    "# Click the radio button to change from Exports to Imports\n",
    "rdo_imports = driver.find_element(By.XPATH, '//a[text()=\"Imports\"]/preceding-sibling::input[@type=\"radio\"]')\n",
    "rdo_imports.click()\n",
    "time.sleep(pause)"
   ]
  },
  {
   "cell_type": "code",
   "execution_count": 17,
   "metadata": {},
   "outputs": [],
   "source": [
    "# Open the combo box of state names\n",
    "state_control = driver.find_element(By.XPATH, '//h3[@title=\"State:\"]/../../../div/div[@class=\"PCContent\"]/span')\n",
    "state_control.click()\n",
    "time.sleep(pause)"
   ]
  },
  {
   "cell_type": "code",
   "execution_count": 18,
   "metadata": {},
   "outputs": [],
   "source": [
    " # Locate the State combobox\n",
    "state_combo = driver.find_element(By.XPATH, '//div[@role=\"menu\" and @aria-label=\"State:\"]')"
   ]
  },
  {
   "cell_type": "code",
   "execution_count": 19,
   "metadata": {},
   "outputs": [
    {
     "name": "stdout",
     "output_type": "stream",
     "text": [
      "52\n"
     ]
    }
   ],
   "source": [
    "# Get the list of states, and click on the first one (Alabama)\n",
    "all_states = state_combo.find_elements(By.XPATH, f'./div[@class=\"tabMenuContent\"]//span')\n",
    "print(len(all_states))\n",
    "all_states[0].click()\n",
    "time.sleep(pause)"
   ]
  },
  {
   "cell_type": "code",
   "execution_count": 20,
   "metadata": {},
   "outputs": [],
   "source": [
    "# Set up our dictionary for import countries by state\n",
    "state_imports = {}\n",
    "\n",
    "# Loop until the last state is clicked\n",
    "while True:\n",
    "\n",
    "    # Get the list of countries being displayed and choose the 1st item (the 0th item is a header)\n",
    "    top_countries = driver.find_elements(By.XPATH, '//div[@class=\"tab-tvYLabel tvimagesNS\"]/div[@class=\"tab-ReactView\"]/div[@class=\"tab-vizLeftSceneMargin\"]//div[@class=\"tab-vizHeaderWrapper\"]')\n",
    "    curr_import_dest = top_countries[1].text\n",
    "\n",
    "    # Delete the overlaid div that prevents the element from being clicked\n",
    "    delete_elements = driver.find_elements(By.XPATH, '//div[@class=\"wcGlassPane\"]') # id=\"loadingGlassPane\"\n",
    "    if len(delete_elements) > 0:\n",
    "        driver.execute_script(\"\"\"\n",
    "            var element = arguments[0];\n",
    "            element.parentNode.removeChild(element);\n",
    "        \"\"\", delete_elements[0])\n",
    "\n",
    "    # Wait until the JavaScript code deletes the element\n",
    "    #wait = WebDriverWait(driver, pause)\n",
    "    time.sleep(pause)\n",
    "\n",
    "    # Locate the currently displayed state and click it (this will open the combobox of states again)\n",
    "    WebDriverWait(driver=driver, timeout=timeout).until(EC.element_to_be_clickable((By.XPATH, '//div[@id=\"tableau_base_widget_ParameterControl_1\"]//div[@class=\"tabComboBoxNameContainer tab-ctrl-formatted-fixedsize\"]/span')))\n",
    "    curr_state = driver.find_element(By.XPATH, '//div[@id=\"tableau_base_widget_ParameterControl_1\"]//div[@class=\"tabComboBoxNameContainer tab-ctrl-formatted-fixedsize\"]/span')\n",
    "    curr_state.click()\n",
    "    \n",
    "    # Locate the State combobox\n",
    "    state_combo = driver.find_element(By.XPATH, '//div[@role=\"menu\" and @aria-label=\"State:\"]')\n",
    "\n",
    "    # Save the name of the currently selected state and use it to add an entry into the dictionary\n",
    "    curr_state_text = curr_state.text\n",
    "    state_imports[dic_states[curr_state_text]] = [curr_state_text, curr_import_dest]\n",
    "\n",
    "    # Now find the next element in the combobox based on the currently selected coombobox element (use following-sibling to navigate to the next one)\n",
    "    state_curr = state_combo.find_element(By.XPATH, f'./div[@class=\"tabMenuContent\"]//span[text() = \"{curr_state.text}\"]')\n",
    "    state_next = state_curr.find_elements(By.XPATH, f'../../following-sibling::*')\n",
    "\n",
    "    # Break out of the loop once the last state has been reached and there are no \"following-siblings\"\n",
    "    if len(state_next) < 1:\n",
    "        state_curr.click() # Close the combo box\n",
    "        break\n",
    "\n",
    "    # Since there are still some states remaining that we haven't visited yet, click on the next state name\n",
    "    state_next[0].click()\n",
    "\n",
    "    # Pause to allow the screen to reload with new data pertinent to the state\n",
    "    time.sleep(pause)"
   ]
  },
  {
   "cell_type": "code",
   "execution_count": 21,
   "metadata": {},
   "outputs": [
    {
     "data": {
      "text/plain": [
       "[('AL', ['Alabama', 'Germany']),\n",
       " ('AK', ['Alaska', 'China']),\n",
       " ('AZ', ['Arizona', 'Mexico']),\n",
       " ('AR', ['Arkansas', 'Canada']),\n",
       " ('CA', ['California', 'Mexico']),\n",
       " ('CO', ['Colorado', 'Canada']),\n",
       " ('CT', ['Connecticut', 'Canada']),\n",
       " ('DE', ['Delaware', 'Canada']),\n",
       " ('DC', ['District of Columbia', 'United Kingdom']),\n",
       " ('FL', ['Florida', 'Canada'])]"
      ]
     },
     "execution_count": 21,
     "metadata": {},
     "output_type": "execute_result"
    }
   ],
   "source": [
    "# Let's look at the data we collected for export countries\n",
    "\n",
    "list(state_exports.items())[:10]"
   ]
  },
  {
   "cell_type": "code",
   "execution_count": 22,
   "metadata": {},
   "outputs": [
    {
     "data": {
      "text/plain": [
       "[('AL', ['Alabama', 'Mexico']),\n",
       " ('AK', ['Alaska', 'South Korea']),\n",
       " ('AZ', ['Arizona', 'Mexico']),\n",
       " ('AR', ['Arkansas', 'Canada']),\n",
       " ('CA', ['California', 'China']),\n",
       " ('CO', ['Colorado', 'Canada']),\n",
       " ('CT', ['Connecticut', 'Canada']),\n",
       " ('DE', ['Delaware', 'Mexico']),\n",
       " ('DC', ['District of Columbia', 'Australia']),\n",
       " ('FL', ['Florida', 'China'])]"
      ]
     },
     "execution_count": 22,
     "metadata": {},
     "output_type": "execute_result"
    }
   ],
   "source": [
    "# Let's look at the data we collected for import countries\n",
    "\n",
    "list(state_imports.items())[:10]"
   ]
  },
  {
   "cell_type": "code",
   "execution_count": 23,
   "metadata": {},
   "outputs": [],
   "source": [
    "driver.quit()"
   ]
  },
  {
   "cell_type": "raw",
   "metadata": {
    "vscode": {
     "languageId": "raw"
    }
   },
   "source": [
    "# Temporary\n",
    "\n",
    "abbrev_exports = {dic_states[curr_state_text]: [curr_state_text, destination] for curr_state_text, destination in list(state_exports.items())}\n",
    "abbrev_exports"
   ]
  },
  {
   "cell_type": "code",
   "execution_count": 24,
   "metadata": {},
   "outputs": [
    {
     "data": {
      "text/html": [
       "<div>\n",
       "<style scoped>\n",
       "    .dataframe tbody tr th:only-of-type {\n",
       "        vertical-align: middle;\n",
       "    }\n",
       "\n",
       "    .dataframe tbody tr th {\n",
       "        vertical-align: top;\n",
       "    }\n",
       "\n",
       "    .dataframe thead th {\n",
       "        text-align: right;\n",
       "    }\n",
       "</style>\n",
       "<table border=\"1\" class=\"dataframe\">\n",
       "  <thead>\n",
       "    <tr style=\"text-align: right;\">\n",
       "      <th></th>\n",
       "      <th>StateAbbr</th>\n",
       "      <th>State</th>\n",
       "      <th>Destination</th>\n",
       "    </tr>\n",
       "  </thead>\n",
       "  <tbody>\n",
       "    <tr>\n",
       "      <th>0</th>\n",
       "      <td>AL</td>\n",
       "      <td>Alabama</td>\n",
       "      <td>Germany</td>\n",
       "    </tr>\n",
       "    <tr>\n",
       "      <th>1</th>\n",
       "      <td>AK</td>\n",
       "      <td>Alaska</td>\n",
       "      <td>China</td>\n",
       "    </tr>\n",
       "    <tr>\n",
       "      <th>2</th>\n",
       "      <td>AZ</td>\n",
       "      <td>Arizona</td>\n",
       "      <td>Mexico</td>\n",
       "    </tr>\n",
       "    <tr>\n",
       "      <th>3</th>\n",
       "      <td>AR</td>\n",
       "      <td>Arkansas</td>\n",
       "      <td>Canada</td>\n",
       "    </tr>\n",
       "    <tr>\n",
       "      <th>4</th>\n",
       "      <td>CA</td>\n",
       "      <td>California</td>\n",
       "      <td>Mexico</td>\n",
       "    </tr>\n",
       "    <tr>\n",
       "      <th>5</th>\n",
       "      <td>CO</td>\n",
       "      <td>Colorado</td>\n",
       "      <td>Canada</td>\n",
       "    </tr>\n",
       "    <tr>\n",
       "      <th>6</th>\n",
       "      <td>CT</td>\n",
       "      <td>Connecticut</td>\n",
       "      <td>Canada</td>\n",
       "    </tr>\n",
       "    <tr>\n",
       "      <th>7</th>\n",
       "      <td>DE</td>\n",
       "      <td>Delaware</td>\n",
       "      <td>Canada</td>\n",
       "    </tr>\n",
       "    <tr>\n",
       "      <th>8</th>\n",
       "      <td>DC</td>\n",
       "      <td>District of Columbia</td>\n",
       "      <td>United Kingdom</td>\n",
       "    </tr>\n",
       "    <tr>\n",
       "      <th>9</th>\n",
       "      <td>FL</td>\n",
       "      <td>Florida</td>\n",
       "      <td>Canada</td>\n",
       "    </tr>\n",
       "  </tbody>\n",
       "</table>\n",
       "</div>"
      ],
      "text/plain": [
       "  StateAbbr                 State     Destination\n",
       "0        AL               Alabama         Germany\n",
       "1        AK                Alaska           China\n",
       "2        AZ               Arizona          Mexico\n",
       "3        AR              Arkansas          Canada\n",
       "4        CA            California          Mexico\n",
       "5        CO              Colorado          Canada\n",
       "6        CT           Connecticut          Canada\n",
       "7        DE              Delaware          Canada\n",
       "8        DC  District of Columbia  United Kingdom\n",
       "9        FL               Florida          Canada"
      ]
     },
     "execution_count": 24,
     "metadata": {},
     "output_type": "execute_result"
    }
   ],
   "source": [
    "df_exports = pd.DataFrame.from_dict(state_exports, columns=[\"State\", \"Destination\"], orient=\"index\")\n",
    "#df_exports = pd.DataFrame.from_dict(abbrev_exports, columns=[\"State\", \"Destination\"], orient=\"index\")\n",
    "df_exports.index.names = [\"StateAbbr\"]\n",
    "df_exports.reset_index(drop=False, inplace=True)\n",
    "# Since Puerto Rico doesn't appear on the map, we will drop it from the dataframe\n",
    "df_exports = df_exports[df_exports[\"StateAbbr\"] != \"PR\"]\n",
    "df_exports.head(10)"
   ]
  },
  {
   "cell_type": "raw",
   "metadata": {
    "vscode": {
     "languageId": "raw"
    }
   },
   "source": [
    "px.colors.qualitative.swatches()"
   ]
  },
  {
   "cell_type": "code",
   "execution_count": 25,
   "metadata": {},
   "outputs": [
    {
     "data": {
      "application/vnd.plotly.v1+json": {
       "config": {
        "plotlyServerURL": "https://plot.ly"
       },
       "data": [
        {
         "colorscale": [
          [
           0,
           "#FD3216"
          ],
          [
           1,
           "#FD3216"
          ]
         ],
         "customdata": [
          [
           "MA",
           "Massachusetts",
           "Belgium"
          ]
         ],
         "geo": "geo",
         "hovertemplate": "Destination=%{customdata[2]}<br>State=%{customdata[1]}<extra></extra>",
         "locationmode": "USA-states",
         "locations": [
          "MA"
         ],
         "name": "Belgium",
         "showlegend": true,
         "showscale": false,
         "type": "choropleth",
         "z": [
          1
         ]
        },
        {
         "colorscale": [
          [
           0,
           "#00FE35"
          ],
          [
           1,
           "#00FE35"
          ]
         ],
         "customdata": [
          [
           "AR",
           "Arkansas",
           "Canada"
          ],
          [
           "CO",
           "Colorado",
           "Canada"
          ],
          [
           "CT",
           "Connecticut",
           "Canada"
          ],
          [
           "DE",
           "Delaware",
           "Canada"
          ],
          [
           "FL",
           "Florida",
           "Canada"
          ],
          [
           "GA",
           "Georgia",
           "Canada"
          ],
          [
           "ID",
           "Idaho",
           "Canada"
          ],
          [
           "IL",
           "Illinois",
           "Canada"
          ],
          [
           "IN",
           "Indiana",
           "Canada"
          ],
          [
           "IA",
           "Iowa",
           "Canada"
          ],
          [
           "KY",
           "Kentucky",
           "Canada"
          ],
          [
           "ME",
           "Maine",
           "Canada"
          ],
          [
           "MD",
           "Maryland",
           "Canada"
          ],
          [
           "MI",
           "Michigan",
           "Canada"
          ],
          [
           "MN",
           "Minnesota",
           "Canada"
          ],
          [
           "MS",
           "Mississippi",
           "Canada"
          ],
          [
           "MO",
           "Missouri",
           "Canada"
          ],
          [
           "MT",
           "Montana",
           "Canada"
          ],
          [
           "NE",
           "Nebraska",
           "Canada"
          ],
          [
           "NV",
           "Nevada",
           "Canada"
          ],
          [
           "NH",
           "New Hampshire",
           "Canada"
          ],
          [
           "NJ",
           "New Jersey",
           "Canada"
          ],
          [
           "NY",
           "New York",
           "Canada"
          ],
          [
           "NC",
           "North Carolina",
           "Canada"
          ],
          [
           "ND",
           "North Dakota",
           "Canada"
          ],
          [
           "OH",
           "Ohio",
           "Canada"
          ],
          [
           "OK",
           "Oklahoma",
           "Canada"
          ],
          [
           "PA",
           "Pennsylvania",
           "Canada"
          ],
          [
           "RI",
           "Rhode Island",
           "Canada"
          ],
          [
           "SD",
           "South Dakota",
           "Canada"
          ],
          [
           "TN",
           "Tennessee",
           "Canada"
          ],
          [
           "VT",
           "Vermont",
           "Canada"
          ],
          [
           "VA",
           "Virginia",
           "Canada"
          ],
          [
           "WV",
           "West Virginia",
           "Canada"
          ],
          [
           "WI",
           "Wisconsin",
           "Canada"
          ],
          [
           "WY",
           "Wyoming",
           "Canada"
          ]
         ],
         "geo": "geo",
         "hovertemplate": "Destination=%{customdata[2]}<br>State=%{customdata[1]}<extra></extra>",
         "locationmode": "USA-states",
         "locations": [
          "AR",
          "CO",
          "CT",
          "DE",
          "FL",
          "GA",
          "ID",
          "IL",
          "IN",
          "IA",
          "KY",
          "ME",
          "MD",
          "MI",
          "MN",
          "MS",
          "MO",
          "MT",
          "NE",
          "NV",
          "NH",
          "NJ",
          "NY",
          "NC",
          "ND",
          "OH",
          "OK",
          "PA",
          "RI",
          "SD",
          "TN",
          "VT",
          "VA",
          "WV",
          "WI",
          "WY"
         ],
         "name": "Canada",
         "showlegend": true,
         "showscale": false,
         "type": "choropleth",
         "z": [
          1,
          1,
          1,
          1,
          1,
          1,
          1,
          1,
          1,
          1,
          1,
          1,
          1,
          1,
          1,
          1,
          1,
          1,
          1,
          1,
          1,
          1,
          1,
          1,
          1,
          1,
          1,
          1,
          1,
          1,
          1,
          1,
          1,
          1,
          1,
          1
         ]
        },
        {
         "colorscale": [
          [
           0,
           "#6A76FC"
          ],
          [
           1,
           "#6A76FC"
          ]
         ],
         "customdata": [
          [
           "AK",
           "Alaska",
           "China"
          ],
          [
           "LA",
           "Louisiana",
           "China"
          ],
          [
           "WA",
           "Washington",
           "China"
          ]
         ],
         "geo": "geo",
         "hovertemplate": "Destination=%{customdata[2]}<br>State=%{customdata[1]}<extra></extra>",
         "locationmode": "USA-states",
         "locations": [
          "AK",
          "LA",
          "WA"
         ],
         "name": "China",
         "showlegend": true,
         "showscale": false,
         "type": "choropleth",
         "z": [
          1,
          1,
          1
         ]
        },
        {
         "colorscale": [
          [
           0,
           "#FED4C4"
          ],
          [
           1,
           "#FED4C4"
          ]
         ],
         "customdata": [
          [
           "AL",
           "Alabama",
           "Germany"
          ],
          [
           "SC",
           "South Carolina",
           "Germany"
          ]
         ],
         "geo": "geo",
         "hovertemplate": "Destination=%{customdata[2]}<br>State=%{customdata[1]}<extra></extra>",
         "locationmode": "USA-states",
         "locations": [
          "AL",
          "SC"
         ],
         "name": "Germany",
         "showlegend": true,
         "showscale": false,
         "type": "choropleth",
         "z": [
          1,
          1
         ]
        },
        {
         "colorscale": [
          [
           0,
           "#FE00CE"
          ],
          [
           1,
           "#FE00CE"
          ]
         ],
         "customdata": [
          [
           "HI",
           "Hawaii",
           "Japan"
          ]
         ],
         "geo": "geo",
         "hovertemplate": "Destination=%{customdata[2]}<br>State=%{customdata[1]}<extra></extra>",
         "locationmode": "USA-states",
         "locations": [
          "HI"
         ],
         "name": "Japan",
         "showlegend": true,
         "showscale": false,
         "type": "choropleth",
         "z": [
          1
         ]
        },
        {
         "colorscale": [
          [
           0,
           "#0DF9FF"
          ],
          [
           1,
           "#0DF9FF"
          ]
         ],
         "customdata": [
          [
           "AZ",
           "Arizona",
           "Mexico"
          ],
          [
           "CA",
           "California",
           "Mexico"
          ],
          [
           "KS",
           "Kansas",
           "Mexico"
          ],
          [
           "NM",
           "New Mexico",
           "Mexico"
          ],
          [
           "OR",
           "Oregon",
           "Mexico"
          ],
          [
           "TX",
           "Texas",
           "Mexico"
          ]
         ],
         "geo": "geo",
         "hovertemplate": "Destination=%{customdata[2]}<br>State=%{customdata[1]}<extra></extra>",
         "locationmode": "USA-states",
         "locations": [
          "AZ",
          "CA",
          "KS",
          "NM",
          "OR",
          "TX"
         ],
         "name": "Mexico",
         "showlegend": true,
         "showscale": false,
         "type": "choropleth",
         "z": [
          1,
          1,
          1,
          1,
          1,
          1
         ]
        },
        {
         "colorscale": [
          [
           0,
           "#F6F926"
          ],
          [
           1,
           "#F6F926"
          ]
         ],
         "customdata": [
          [
           "DC",
           "District of Columbia",
           "United Kingdom"
          ],
          [
           "UT",
           "Utah",
           "United Kingdom"
          ]
         ],
         "geo": "geo",
         "hovertemplate": "Destination=%{customdata[2]}<br>State=%{customdata[1]}<extra></extra>",
         "locationmode": "USA-states",
         "locations": [
          "DC",
          "UT"
         ],
         "name": "United Kingdom",
         "showlegend": true,
         "showscale": false,
         "type": "choropleth",
         "z": [
          1,
          1
         ]
        }
       ],
       "layout": {
        "geo": {
         "center": {},
         "domain": {
          "x": [
           0,
           1
          ],
          "y": [
           0,
           1
          ]
         },
         "scope": "usa"
        },
        "height": 500,
        "legend": {
         "title": {
          "text": "Destination"
         },
         "tracegroupgap": 0
        },
        "margin": {
         "b": 0,
         "l": 0,
         "r": 0,
         "t": 50
        },
        "template": {
         "data": {
          "bar": [
           {
            "error_x": {
             "color": "#2a3f5f"
            },
            "error_y": {
             "color": "#2a3f5f"
            },
            "marker": {
             "line": {
              "color": "#E5ECF6",
              "width": 0.5
             },
             "pattern": {
              "fillmode": "overlay",
              "size": 10,
              "solidity": 0.2
             }
            },
            "type": "bar"
           }
          ],
          "barpolar": [
           {
            "marker": {
             "line": {
              "color": "#E5ECF6",
              "width": 0.5
             },
             "pattern": {
              "fillmode": "overlay",
              "size": 10,
              "solidity": 0.2
             }
            },
            "type": "barpolar"
           }
          ],
          "carpet": [
           {
            "aaxis": {
             "endlinecolor": "#2a3f5f",
             "gridcolor": "white",
             "linecolor": "white",
             "minorgridcolor": "white",
             "startlinecolor": "#2a3f5f"
            },
            "baxis": {
             "endlinecolor": "#2a3f5f",
             "gridcolor": "white",
             "linecolor": "white",
             "minorgridcolor": "white",
             "startlinecolor": "#2a3f5f"
            },
            "type": "carpet"
           }
          ],
          "choropleth": [
           {
            "colorbar": {
             "outlinewidth": 0,
             "ticks": ""
            },
            "type": "choropleth"
           }
          ],
          "contour": [
           {
            "colorbar": {
             "outlinewidth": 0,
             "ticks": ""
            },
            "colorscale": [
             [
              0,
              "#0d0887"
             ],
             [
              0.1111111111111111,
              "#46039f"
             ],
             [
              0.2222222222222222,
              "#7201a8"
             ],
             [
              0.3333333333333333,
              "#9c179e"
             ],
             [
              0.4444444444444444,
              "#bd3786"
             ],
             [
              0.5555555555555556,
              "#d8576b"
             ],
             [
              0.6666666666666666,
              "#ed7953"
             ],
             [
              0.7777777777777778,
              "#fb9f3a"
             ],
             [
              0.8888888888888888,
              "#fdca26"
             ],
             [
              1,
              "#f0f921"
             ]
            ],
            "type": "contour"
           }
          ],
          "contourcarpet": [
           {
            "colorbar": {
             "outlinewidth": 0,
             "ticks": ""
            },
            "type": "contourcarpet"
           }
          ],
          "heatmap": [
           {
            "colorbar": {
             "outlinewidth": 0,
             "ticks": ""
            },
            "colorscale": [
             [
              0,
              "#0d0887"
             ],
             [
              0.1111111111111111,
              "#46039f"
             ],
             [
              0.2222222222222222,
              "#7201a8"
             ],
             [
              0.3333333333333333,
              "#9c179e"
             ],
             [
              0.4444444444444444,
              "#bd3786"
             ],
             [
              0.5555555555555556,
              "#d8576b"
             ],
             [
              0.6666666666666666,
              "#ed7953"
             ],
             [
              0.7777777777777778,
              "#fb9f3a"
             ],
             [
              0.8888888888888888,
              "#fdca26"
             ],
             [
              1,
              "#f0f921"
             ]
            ],
            "type": "heatmap"
           }
          ],
          "histogram": [
           {
            "marker": {
             "pattern": {
              "fillmode": "overlay",
              "size": 10,
              "solidity": 0.2
             }
            },
            "type": "histogram"
           }
          ],
          "histogram2d": [
           {
            "colorbar": {
             "outlinewidth": 0,
             "ticks": ""
            },
            "colorscale": [
             [
              0,
              "#0d0887"
             ],
             [
              0.1111111111111111,
              "#46039f"
             ],
             [
              0.2222222222222222,
              "#7201a8"
             ],
             [
              0.3333333333333333,
              "#9c179e"
             ],
             [
              0.4444444444444444,
              "#bd3786"
             ],
             [
              0.5555555555555556,
              "#d8576b"
             ],
             [
              0.6666666666666666,
              "#ed7953"
             ],
             [
              0.7777777777777778,
              "#fb9f3a"
             ],
             [
              0.8888888888888888,
              "#fdca26"
             ],
             [
              1,
              "#f0f921"
             ]
            ],
            "type": "histogram2d"
           }
          ],
          "histogram2dcontour": [
           {
            "colorbar": {
             "outlinewidth": 0,
             "ticks": ""
            },
            "colorscale": [
             [
              0,
              "#0d0887"
             ],
             [
              0.1111111111111111,
              "#46039f"
             ],
             [
              0.2222222222222222,
              "#7201a8"
             ],
             [
              0.3333333333333333,
              "#9c179e"
             ],
             [
              0.4444444444444444,
              "#bd3786"
             ],
             [
              0.5555555555555556,
              "#d8576b"
             ],
             [
              0.6666666666666666,
              "#ed7953"
             ],
             [
              0.7777777777777778,
              "#fb9f3a"
             ],
             [
              0.8888888888888888,
              "#fdca26"
             ],
             [
              1,
              "#f0f921"
             ]
            ],
            "type": "histogram2dcontour"
           }
          ],
          "mesh3d": [
           {
            "colorbar": {
             "outlinewidth": 0,
             "ticks": ""
            },
            "type": "mesh3d"
           }
          ],
          "parcoords": [
           {
            "line": {
             "colorbar": {
              "outlinewidth": 0,
              "ticks": ""
             }
            },
            "type": "parcoords"
           }
          ],
          "pie": [
           {
            "automargin": true,
            "type": "pie"
           }
          ],
          "scatter": [
           {
            "fillpattern": {
             "fillmode": "overlay",
             "size": 10,
             "solidity": 0.2
            },
            "type": "scatter"
           }
          ],
          "scatter3d": [
           {
            "line": {
             "colorbar": {
              "outlinewidth": 0,
              "ticks": ""
             }
            },
            "marker": {
             "colorbar": {
              "outlinewidth": 0,
              "ticks": ""
             }
            },
            "type": "scatter3d"
           }
          ],
          "scattercarpet": [
           {
            "marker": {
             "colorbar": {
              "outlinewidth": 0,
              "ticks": ""
             }
            },
            "type": "scattercarpet"
           }
          ],
          "scattergeo": [
           {
            "marker": {
             "colorbar": {
              "outlinewidth": 0,
              "ticks": ""
             }
            },
            "type": "scattergeo"
           }
          ],
          "scattergl": [
           {
            "marker": {
             "colorbar": {
              "outlinewidth": 0,
              "ticks": ""
             }
            },
            "type": "scattergl"
           }
          ],
          "scattermap": [
           {
            "marker": {
             "colorbar": {
              "outlinewidth": 0,
              "ticks": ""
             }
            },
            "type": "scattermap"
           }
          ],
          "scattermapbox": [
           {
            "marker": {
             "colorbar": {
              "outlinewidth": 0,
              "ticks": ""
             }
            },
            "type": "scattermapbox"
           }
          ],
          "scatterpolar": [
           {
            "marker": {
             "colorbar": {
              "outlinewidth": 0,
              "ticks": ""
             }
            },
            "type": "scatterpolar"
           }
          ],
          "scatterpolargl": [
           {
            "marker": {
             "colorbar": {
              "outlinewidth": 0,
              "ticks": ""
             }
            },
            "type": "scatterpolargl"
           }
          ],
          "scatterternary": [
           {
            "marker": {
             "colorbar": {
              "outlinewidth": 0,
              "ticks": ""
             }
            },
            "type": "scatterternary"
           }
          ],
          "surface": [
           {
            "colorbar": {
             "outlinewidth": 0,
             "ticks": ""
            },
            "colorscale": [
             [
              0,
              "#0d0887"
             ],
             [
              0.1111111111111111,
              "#46039f"
             ],
             [
              0.2222222222222222,
              "#7201a8"
             ],
             [
              0.3333333333333333,
              "#9c179e"
             ],
             [
              0.4444444444444444,
              "#bd3786"
             ],
             [
              0.5555555555555556,
              "#d8576b"
             ],
             [
              0.6666666666666666,
              "#ed7953"
             ],
             [
              0.7777777777777778,
              "#fb9f3a"
             ],
             [
              0.8888888888888888,
              "#fdca26"
             ],
             [
              1,
              "#f0f921"
             ]
            ],
            "type": "surface"
           }
          ],
          "table": [
           {
            "cells": {
             "fill": {
              "color": "#EBF0F8"
             },
             "line": {
              "color": "white"
             }
            },
            "header": {
             "fill": {
              "color": "#C8D4E3"
             },
             "line": {
              "color": "white"
             }
            },
            "type": "table"
           }
          ]
         },
         "layout": {
          "annotationdefaults": {
           "arrowcolor": "#2a3f5f",
           "arrowhead": 0,
           "arrowwidth": 1
          },
          "autotypenumbers": "strict",
          "coloraxis": {
           "colorbar": {
            "outlinewidth": 0,
            "ticks": ""
           }
          },
          "colorscale": {
           "diverging": [
            [
             0,
             "#8e0152"
            ],
            [
             0.1,
             "#c51b7d"
            ],
            [
             0.2,
             "#de77ae"
            ],
            [
             0.3,
             "#f1b6da"
            ],
            [
             0.4,
             "#fde0ef"
            ],
            [
             0.5,
             "#f7f7f7"
            ],
            [
             0.6,
             "#e6f5d0"
            ],
            [
             0.7,
             "#b8e186"
            ],
            [
             0.8,
             "#7fbc41"
            ],
            [
             0.9,
             "#4d9221"
            ],
            [
             1,
             "#276419"
            ]
           ],
           "sequential": [
            [
             0,
             "#0d0887"
            ],
            [
             0.1111111111111111,
             "#46039f"
            ],
            [
             0.2222222222222222,
             "#7201a8"
            ],
            [
             0.3333333333333333,
             "#9c179e"
            ],
            [
             0.4444444444444444,
             "#bd3786"
            ],
            [
             0.5555555555555556,
             "#d8576b"
            ],
            [
             0.6666666666666666,
             "#ed7953"
            ],
            [
             0.7777777777777778,
             "#fb9f3a"
            ],
            [
             0.8888888888888888,
             "#fdca26"
            ],
            [
             1,
             "#f0f921"
            ]
           ],
           "sequentialminus": [
            [
             0,
             "#0d0887"
            ],
            [
             0.1111111111111111,
             "#46039f"
            ],
            [
             0.2222222222222222,
             "#7201a8"
            ],
            [
             0.3333333333333333,
             "#9c179e"
            ],
            [
             0.4444444444444444,
             "#bd3786"
            ],
            [
             0.5555555555555556,
             "#d8576b"
            ],
            [
             0.6666666666666666,
             "#ed7953"
            ],
            [
             0.7777777777777778,
             "#fb9f3a"
            ],
            [
             0.8888888888888888,
             "#fdca26"
            ],
            [
             1,
             "#f0f921"
            ]
           ]
          },
          "colorway": [
           "#636efa",
           "#EF553B",
           "#00cc96",
           "#ab63fa",
           "#FFA15A",
           "#19d3f3",
           "#FF6692",
           "#B6E880",
           "#FF97FF",
           "#FECB52"
          ],
          "font": {
           "color": "#2a3f5f"
          },
          "geo": {
           "bgcolor": "white",
           "lakecolor": "white",
           "landcolor": "#E5ECF6",
           "showlakes": true,
           "showland": true,
           "subunitcolor": "white"
          },
          "hoverlabel": {
           "align": "left"
          },
          "hovermode": "closest",
          "mapbox": {
           "style": "light"
          },
          "paper_bgcolor": "white",
          "plot_bgcolor": "#E5ECF6",
          "polar": {
           "angularaxis": {
            "gridcolor": "white",
            "linecolor": "white",
            "ticks": ""
           },
           "bgcolor": "#E5ECF6",
           "radialaxis": {
            "gridcolor": "white",
            "linecolor": "white",
            "ticks": ""
           }
          },
          "scene": {
           "xaxis": {
            "backgroundcolor": "#E5ECF6",
            "gridcolor": "white",
            "gridwidth": 2,
            "linecolor": "white",
            "showbackground": true,
            "ticks": "",
            "zerolinecolor": "white"
           },
           "yaxis": {
            "backgroundcolor": "#E5ECF6",
            "gridcolor": "white",
            "gridwidth": 2,
            "linecolor": "white",
            "showbackground": true,
            "ticks": "",
            "zerolinecolor": "white"
           },
           "zaxis": {
            "backgroundcolor": "#E5ECF6",
            "gridcolor": "white",
            "gridwidth": 2,
            "linecolor": "white",
            "showbackground": true,
            "ticks": "",
            "zerolinecolor": "white"
           }
          },
          "shapedefaults": {
           "line": {
            "color": "#2a3f5f"
           }
          },
          "ternary": {
           "aaxis": {
            "gridcolor": "white",
            "linecolor": "white",
            "ticks": ""
           },
           "baxis": {
            "gridcolor": "white",
            "linecolor": "white",
            "ticks": ""
           },
           "bgcolor": "#E5ECF6",
           "caxis": {
            "gridcolor": "white",
            "linecolor": "white",
            "ticks": ""
           }
          },
          "title": {
           "x": 0.05
          },
          "xaxis": {
           "automargin": true,
           "gridcolor": "white",
           "linecolor": "white",
           "ticks": "",
           "title": {
            "standoff": 15
           },
           "zerolinecolor": "white",
           "zerolinewidth": 2
          },
          "yaxis": {
           "automargin": true,
           "gridcolor": "white",
           "linecolor": "white",
           "ticks": "",
           "title": {
            "standoff": 15
           },
           "zerolinecolor": "white",
           "zerolinewidth": 2
          }
         }
        },
        "title": {
         "text": "Primary Export Country by State"
        },
        "width": 1000
       }
      }
     },
     "metadata": {},
     "output_type": "display_data"
    }
   ],
   "source": [
    "fig = px.choropleth(\n",
    "      df_exports\n",
    "    , locations = \"StateAbbr\"\n",
    "    , locationmode = \"USA-states\"\n",
    "    , color = \"Destination\"\n",
    "    , scope = \"usa\"\n",
    "    , hover_data = {\"StateAbbr\": False, \"State\": True, \"Destination\": True}\n",
    "    #, labels = {\"Destination\": \"Target\", \"State\":\"\"}\n",
    "    , title = \"Primary Export Country by State\"\n",
    "    #, width = 1024\n",
    "    #, height = 768\n",
    "    , category_orders = {\"Destination\": sorted(pd.unique(df_exports[\"Destination\"]))}\n",
    "    #, color_discrete_sequence = px.colors.qualitative.Alphabet[1:]\n",
    "    , color_discrete_sequence = px.colors.qualitative.Light24\n",
    ")\n",
    "\n",
    "fig.update_layout(\n",
    "      width = 1000\n",
    "    , height = 500\n",
    "    , margin = {\"r\": 0, \"t\": 50, \"l\": 0, \"b\": 0}\n",
    ")\n",
    "\n",
    "fig.show()"
   ]
  },
  {
   "cell_type": "raw",
   "metadata": {
    "vscode": {
     "languageId": "raw"
    }
   },
   "source": [
    "# Temporary\n",
    "\n",
    "abbrev_imports = {dic_states[curr_state_text]: [curr_state_text, source] for curr_state_text, source in list(state_imports.items())}\n",
    "abbrev_imports"
   ]
  },
  {
   "cell_type": "code",
   "execution_count": 26,
   "metadata": {},
   "outputs": [
    {
     "data": {
      "text/html": [
       "<div>\n",
       "<style scoped>\n",
       "    .dataframe tbody tr th:only-of-type {\n",
       "        vertical-align: middle;\n",
       "    }\n",
       "\n",
       "    .dataframe tbody tr th {\n",
       "        vertical-align: top;\n",
       "    }\n",
       "\n",
       "    .dataframe thead th {\n",
       "        text-align: right;\n",
       "    }\n",
       "</style>\n",
       "<table border=\"1\" class=\"dataframe\">\n",
       "  <thead>\n",
       "    <tr style=\"text-align: right;\">\n",
       "      <th></th>\n",
       "      <th>StateAbbr</th>\n",
       "      <th>State</th>\n",
       "      <th>Source</th>\n",
       "    </tr>\n",
       "  </thead>\n",
       "  <tbody>\n",
       "    <tr>\n",
       "      <th>0</th>\n",
       "      <td>AL</td>\n",
       "      <td>Alabama</td>\n",
       "      <td>Mexico</td>\n",
       "    </tr>\n",
       "    <tr>\n",
       "      <th>1</th>\n",
       "      <td>AK</td>\n",
       "      <td>Alaska</td>\n",
       "      <td>South Korea</td>\n",
       "    </tr>\n",
       "    <tr>\n",
       "      <th>2</th>\n",
       "      <td>AZ</td>\n",
       "      <td>Arizona</td>\n",
       "      <td>Mexico</td>\n",
       "    </tr>\n",
       "    <tr>\n",
       "      <th>3</th>\n",
       "      <td>AR</td>\n",
       "      <td>Arkansas</td>\n",
       "      <td>Canada</td>\n",
       "    </tr>\n",
       "    <tr>\n",
       "      <th>4</th>\n",
       "      <td>CA</td>\n",
       "      <td>California</td>\n",
       "      <td>China</td>\n",
       "    </tr>\n",
       "    <tr>\n",
       "      <th>5</th>\n",
       "      <td>CO</td>\n",
       "      <td>Colorado</td>\n",
       "      <td>Canada</td>\n",
       "    </tr>\n",
       "    <tr>\n",
       "      <th>6</th>\n",
       "      <td>CT</td>\n",
       "      <td>Connecticut</td>\n",
       "      <td>Canada</td>\n",
       "    </tr>\n",
       "    <tr>\n",
       "      <th>7</th>\n",
       "      <td>DE</td>\n",
       "      <td>Delaware</td>\n",
       "      <td>Mexico</td>\n",
       "    </tr>\n",
       "    <tr>\n",
       "      <th>8</th>\n",
       "      <td>DC</td>\n",
       "      <td>District of Columbia</td>\n",
       "      <td>Australia</td>\n",
       "    </tr>\n",
       "    <tr>\n",
       "      <th>9</th>\n",
       "      <td>FL</td>\n",
       "      <td>Florida</td>\n",
       "      <td>China</td>\n",
       "    </tr>\n",
       "  </tbody>\n",
       "</table>\n",
       "</div>"
      ],
      "text/plain": [
       "  StateAbbr                 State       Source\n",
       "0        AL               Alabama       Mexico\n",
       "1        AK                Alaska  South Korea\n",
       "2        AZ               Arizona       Mexico\n",
       "3        AR              Arkansas       Canada\n",
       "4        CA            California        China\n",
       "5        CO              Colorado       Canada\n",
       "6        CT           Connecticut       Canada\n",
       "7        DE              Delaware       Mexico\n",
       "8        DC  District of Columbia    Australia\n",
       "9        FL               Florida        China"
      ]
     },
     "execution_count": 26,
     "metadata": {},
     "output_type": "execute_result"
    }
   ],
   "source": [
    "df_imports = pd.DataFrame.from_dict(state_imports, columns=[\"State\", \"Source\"], orient=\"index\")\n",
    "#df_imports = pd.DataFrame.from_dict(abbrev_imports, columns=[\"State\", \"Source\"], orient=\"index\")\n",
    "df_imports.index.names = [\"StateAbbr\"]\n",
    "df_imports.reset_index(drop=False, inplace=True)\n",
    "# Since Puerto Rico doesn't appear on the map, we will drop it from the dataframe\n",
    "df_imports = df_imports[df_imports[\"StateAbbr\"] != \"PR\"]\n",
    "df_imports.head(10)"
   ]
  },
  {
   "cell_type": "code",
   "execution_count": 27,
   "metadata": {},
   "outputs": [
    {
     "data": {
      "application/vnd.plotly.v1+json": {
       "config": {
        "plotlyServerURL": "https://plot.ly"
       },
       "data": [
        {
         "colorscale": [
          [
           0,
           "#FD3216"
          ],
          [
           1,
           "#FD3216"
          ]
         ],
         "customdata": [
          [
           "DC",
           "District of Columbia",
           "Australia"
          ]
         ],
         "geo": "geo",
         "hovertemplate": "Source=%{customdata[2]}<br>State=%{customdata[1]}<extra></extra>",
         "locationmode": "USA-states",
         "locations": [
          "DC"
         ],
         "name": "Australia",
         "showlegend": true,
         "showscale": false,
         "type": "choropleth",
         "z": [
          1
         ]
        },
        {
         "colorscale": [
          [
           0,
           "#00FE35"
          ],
          [
           1,
           "#00FE35"
          ]
         ],
         "customdata": [
          [
           "AR",
           "Arkansas",
           "Canada"
          ],
          [
           "CO",
           "Colorado",
           "Canada"
          ],
          [
           "CT",
           "Connecticut",
           "Canada"
          ],
          [
           "IL",
           "Illinois",
           "Canada"
          ],
          [
           "IA",
           "Iowa",
           "Canada"
          ],
          [
           "KS",
           "Kansas",
           "Canada"
          ],
          [
           "ME",
           "Maine",
           "Canada"
          ],
          [
           "MA",
           "Massachusetts",
           "Canada"
          ],
          [
           "MN",
           "Minnesota",
           "Canada"
          ],
          [
           "MT",
           "Montana",
           "Canada"
          ],
          [
           "NE",
           "Nebraska",
           "Canada"
          ],
          [
           "NH",
           "New Hampshire",
           "Canada"
          ],
          [
           "NY",
           "New York",
           "Canada"
          ],
          [
           "ND",
           "North Dakota",
           "Canada"
          ],
          [
           "OH",
           "Ohio",
           "Canada"
          ],
          [
           "OK",
           "Oklahoma",
           "Canada"
          ],
          [
           "OR",
           "Oregon",
           "Canada"
          ],
          [
           "SD",
           "South Dakota",
           "Canada"
          ],
          [
           "VT",
           "Vermont",
           "Canada"
          ],
          [
           "WA",
           "Washington",
           "Canada"
          ],
          [
           "WV",
           "West Virginia",
           "Canada"
          ],
          [
           "WI",
           "Wisconsin",
           "Canada"
          ],
          [
           "WY",
           "Wyoming",
           "Canada"
          ]
         ],
         "geo": "geo",
         "hovertemplate": "Source=%{customdata[2]}<br>State=%{customdata[1]}<extra></extra>",
         "locationmode": "USA-states",
         "locations": [
          "AR",
          "CO",
          "CT",
          "IL",
          "IA",
          "KS",
          "ME",
          "MA",
          "MN",
          "MT",
          "NE",
          "NH",
          "NY",
          "ND",
          "OH",
          "OK",
          "OR",
          "SD",
          "VT",
          "WA",
          "WV",
          "WI",
          "WY"
         ],
         "name": "Canada",
         "showlegend": true,
         "showscale": false,
         "type": "choropleth",
         "z": [
          1,
          1,
          1,
          1,
          1,
          1,
          1,
          1,
          1,
          1,
          1,
          1,
          1,
          1,
          1,
          1,
          1,
          1,
          1,
          1,
          1,
          1,
          1
         ]
        },
        {
         "colorscale": [
          [
           0,
           "#6A76FC"
          ],
          [
           1,
           "#6A76FC"
          ]
         ],
         "customdata": [
          [
           "CA",
           "California",
           "China"
          ],
          [
           "FL",
           "Florida",
           "China"
          ],
          [
           "GA",
           "Georgia",
           "China"
          ],
          [
           "NV",
           "Nevada",
           "China"
          ],
          [
           "NJ",
           "New Jersey",
           "China"
          ],
          [
           "PA",
           "Pennsylvania",
           "China"
          ],
          [
           "SC",
           "South Carolina",
           "China"
          ],
          [
           "TN",
           "Tennessee",
           "China"
          ],
          [
           "VA",
           "Virginia",
           "China"
          ]
         ],
         "geo": "geo",
         "hovertemplate": "Source=%{customdata[2]}<br>State=%{customdata[1]}<extra></extra>",
         "locationmode": "USA-states",
         "locations": [
          "CA",
          "FL",
          "GA",
          "NV",
          "NJ",
          "PA",
          "SC",
          "TN",
          "VA"
         ],
         "name": "China",
         "showlegend": true,
         "showscale": false,
         "type": "choropleth",
         "z": [
          1,
          1,
          1,
          1,
          1,
          1,
          1,
          1,
          1
         ]
        },
        {
         "colorscale": [
          [
           0,
           "#FED4C4"
          ],
          [
           1,
           "#FED4C4"
          ]
         ],
         "customdata": [
          [
           "MD",
           "Maryland",
           "Germany"
          ],
          [
           "RI",
           "Rhode Island",
           "Germany"
          ]
         ],
         "geo": "geo",
         "hovertemplate": "Source=%{customdata[2]}<br>State=%{customdata[1]}<extra></extra>",
         "locationmode": "USA-states",
         "locations": [
          "MD",
          "RI"
         ],
         "name": "Germany",
         "showlegend": true,
         "showscale": false,
         "type": "choropleth",
         "z": [
          1,
          1
         ]
        },
        {
         "colorscale": [
          [
           0,
           "#FE00CE"
          ],
          [
           1,
           "#FE00CE"
          ]
         ],
         "customdata": [
          [
           "IN",
           "Indiana",
           "Ireland"
          ]
         ],
         "geo": "geo",
         "hovertemplate": "Source=%{customdata[2]}<br>State=%{customdata[1]}<extra></extra>",
         "locationmode": "USA-states",
         "locations": [
          "IN"
         ],
         "name": "Ireland",
         "showlegend": true,
         "showscale": false,
         "type": "choropleth",
         "z": [
          1
         ]
        },
        {
         "colorscale": [
          [
           0,
           "#0DF9FF"
          ],
          [
           1,
           "#0DF9FF"
          ]
         ],
         "customdata": [
          [
           "ID",
           "Idaho",
           "Malaysia"
          ]
         ],
         "geo": "geo",
         "hovertemplate": "Source=%{customdata[2]}<br>State=%{customdata[1]}<extra></extra>",
         "locationmode": "USA-states",
         "locations": [
          "ID"
         ],
         "name": "Malaysia",
         "showlegend": true,
         "showscale": false,
         "type": "choropleth",
         "z": [
          1
         ]
        },
        {
         "colorscale": [
          [
           0,
           "#F6F926"
          ],
          [
           1,
           "#F6F926"
          ]
         ],
         "customdata": [
          [
           "AL",
           "Alabama",
           "Mexico"
          ],
          [
           "AZ",
           "Arizona",
           "Mexico"
          ],
          [
           "DE",
           "Delaware",
           "Mexico"
          ],
          [
           "KY",
           "Kentucky",
           "Mexico"
          ],
          [
           "LA",
           "Louisiana",
           "Mexico"
          ],
          [
           "MI",
           "Michigan",
           "Mexico"
          ],
          [
           "MS",
           "Mississippi",
           "Mexico"
          ],
          [
           "MO",
           "Missouri",
           "Mexico"
          ],
          [
           "NM",
           "New Mexico",
           "Mexico"
          ],
          [
           "NC",
           "North Carolina",
           "Mexico"
          ],
          [
           "TX",
           "Texas",
           "Mexico"
          ],
          [
           "UT",
           "Utah",
           "Mexico"
          ]
         ],
         "geo": "geo",
         "hovertemplate": "Source=%{customdata[2]}<br>State=%{customdata[1]}<extra></extra>",
         "locationmode": "USA-states",
         "locations": [
          "AL",
          "AZ",
          "DE",
          "KY",
          "LA",
          "MI",
          "MS",
          "MO",
          "NM",
          "NC",
          "TX",
          "UT"
         ],
         "name": "Mexico",
         "showlegend": true,
         "showscale": false,
         "type": "choropleth",
         "z": [
          1,
          1,
          1,
          1,
          1,
          1,
          1,
          1,
          1,
          1,
          1,
          1
         ]
        },
        {
         "colorscale": [
          [
           0,
           "#FF9616"
          ],
          [
           1,
           "#FF9616"
          ]
         ],
         "customdata": [
          [
           "AK",
           "Alaska",
           "South Korea"
          ],
          [
           "HI",
           "Hawaii",
           "South Korea"
          ]
         ],
         "geo": "geo",
         "hovertemplate": "Source=%{customdata[2]}<br>State=%{customdata[1]}<extra></extra>",
         "locationmode": "USA-states",
         "locations": [
          "AK",
          "HI"
         ],
         "name": "South Korea",
         "showlegend": true,
         "showscale": false,
         "type": "choropleth",
         "z": [
          1,
          1
         ]
        }
       ],
       "layout": {
        "geo": {
         "center": {},
         "domain": {
          "x": [
           0,
           1
          ],
          "y": [
           0,
           1
          ]
         },
         "scope": "usa"
        },
        "height": 500,
        "legend": {
         "title": {
          "text": "Source"
         },
         "tracegroupgap": 0
        },
        "margin": {
         "b": 0,
         "l": 0,
         "r": 0,
         "t": 50
        },
        "template": {
         "data": {
          "bar": [
           {
            "error_x": {
             "color": "#2a3f5f"
            },
            "error_y": {
             "color": "#2a3f5f"
            },
            "marker": {
             "line": {
              "color": "#E5ECF6",
              "width": 0.5
             },
             "pattern": {
              "fillmode": "overlay",
              "size": 10,
              "solidity": 0.2
             }
            },
            "type": "bar"
           }
          ],
          "barpolar": [
           {
            "marker": {
             "line": {
              "color": "#E5ECF6",
              "width": 0.5
             },
             "pattern": {
              "fillmode": "overlay",
              "size": 10,
              "solidity": 0.2
             }
            },
            "type": "barpolar"
           }
          ],
          "carpet": [
           {
            "aaxis": {
             "endlinecolor": "#2a3f5f",
             "gridcolor": "white",
             "linecolor": "white",
             "minorgridcolor": "white",
             "startlinecolor": "#2a3f5f"
            },
            "baxis": {
             "endlinecolor": "#2a3f5f",
             "gridcolor": "white",
             "linecolor": "white",
             "minorgridcolor": "white",
             "startlinecolor": "#2a3f5f"
            },
            "type": "carpet"
           }
          ],
          "choropleth": [
           {
            "colorbar": {
             "outlinewidth": 0,
             "ticks": ""
            },
            "type": "choropleth"
           }
          ],
          "contour": [
           {
            "colorbar": {
             "outlinewidth": 0,
             "ticks": ""
            },
            "colorscale": [
             [
              0,
              "#0d0887"
             ],
             [
              0.1111111111111111,
              "#46039f"
             ],
             [
              0.2222222222222222,
              "#7201a8"
             ],
             [
              0.3333333333333333,
              "#9c179e"
             ],
             [
              0.4444444444444444,
              "#bd3786"
             ],
             [
              0.5555555555555556,
              "#d8576b"
             ],
             [
              0.6666666666666666,
              "#ed7953"
             ],
             [
              0.7777777777777778,
              "#fb9f3a"
             ],
             [
              0.8888888888888888,
              "#fdca26"
             ],
             [
              1,
              "#f0f921"
             ]
            ],
            "type": "contour"
           }
          ],
          "contourcarpet": [
           {
            "colorbar": {
             "outlinewidth": 0,
             "ticks": ""
            },
            "type": "contourcarpet"
           }
          ],
          "heatmap": [
           {
            "colorbar": {
             "outlinewidth": 0,
             "ticks": ""
            },
            "colorscale": [
             [
              0,
              "#0d0887"
             ],
             [
              0.1111111111111111,
              "#46039f"
             ],
             [
              0.2222222222222222,
              "#7201a8"
             ],
             [
              0.3333333333333333,
              "#9c179e"
             ],
             [
              0.4444444444444444,
              "#bd3786"
             ],
             [
              0.5555555555555556,
              "#d8576b"
             ],
             [
              0.6666666666666666,
              "#ed7953"
             ],
             [
              0.7777777777777778,
              "#fb9f3a"
             ],
             [
              0.8888888888888888,
              "#fdca26"
             ],
             [
              1,
              "#f0f921"
             ]
            ],
            "type": "heatmap"
           }
          ],
          "histogram": [
           {
            "marker": {
             "pattern": {
              "fillmode": "overlay",
              "size": 10,
              "solidity": 0.2
             }
            },
            "type": "histogram"
           }
          ],
          "histogram2d": [
           {
            "colorbar": {
             "outlinewidth": 0,
             "ticks": ""
            },
            "colorscale": [
             [
              0,
              "#0d0887"
             ],
             [
              0.1111111111111111,
              "#46039f"
             ],
             [
              0.2222222222222222,
              "#7201a8"
             ],
             [
              0.3333333333333333,
              "#9c179e"
             ],
             [
              0.4444444444444444,
              "#bd3786"
             ],
             [
              0.5555555555555556,
              "#d8576b"
             ],
             [
              0.6666666666666666,
              "#ed7953"
             ],
             [
              0.7777777777777778,
              "#fb9f3a"
             ],
             [
              0.8888888888888888,
              "#fdca26"
             ],
             [
              1,
              "#f0f921"
             ]
            ],
            "type": "histogram2d"
           }
          ],
          "histogram2dcontour": [
           {
            "colorbar": {
             "outlinewidth": 0,
             "ticks": ""
            },
            "colorscale": [
             [
              0,
              "#0d0887"
             ],
             [
              0.1111111111111111,
              "#46039f"
             ],
             [
              0.2222222222222222,
              "#7201a8"
             ],
             [
              0.3333333333333333,
              "#9c179e"
             ],
             [
              0.4444444444444444,
              "#bd3786"
             ],
             [
              0.5555555555555556,
              "#d8576b"
             ],
             [
              0.6666666666666666,
              "#ed7953"
             ],
             [
              0.7777777777777778,
              "#fb9f3a"
             ],
             [
              0.8888888888888888,
              "#fdca26"
             ],
             [
              1,
              "#f0f921"
             ]
            ],
            "type": "histogram2dcontour"
           }
          ],
          "mesh3d": [
           {
            "colorbar": {
             "outlinewidth": 0,
             "ticks": ""
            },
            "type": "mesh3d"
           }
          ],
          "parcoords": [
           {
            "line": {
             "colorbar": {
              "outlinewidth": 0,
              "ticks": ""
             }
            },
            "type": "parcoords"
           }
          ],
          "pie": [
           {
            "automargin": true,
            "type": "pie"
           }
          ],
          "scatter": [
           {
            "fillpattern": {
             "fillmode": "overlay",
             "size": 10,
             "solidity": 0.2
            },
            "type": "scatter"
           }
          ],
          "scatter3d": [
           {
            "line": {
             "colorbar": {
              "outlinewidth": 0,
              "ticks": ""
             }
            },
            "marker": {
             "colorbar": {
              "outlinewidth": 0,
              "ticks": ""
             }
            },
            "type": "scatter3d"
           }
          ],
          "scattercarpet": [
           {
            "marker": {
             "colorbar": {
              "outlinewidth": 0,
              "ticks": ""
             }
            },
            "type": "scattercarpet"
           }
          ],
          "scattergeo": [
           {
            "marker": {
             "colorbar": {
              "outlinewidth": 0,
              "ticks": ""
             }
            },
            "type": "scattergeo"
           }
          ],
          "scattergl": [
           {
            "marker": {
             "colorbar": {
              "outlinewidth": 0,
              "ticks": ""
             }
            },
            "type": "scattergl"
           }
          ],
          "scattermap": [
           {
            "marker": {
             "colorbar": {
              "outlinewidth": 0,
              "ticks": ""
             }
            },
            "type": "scattermap"
           }
          ],
          "scattermapbox": [
           {
            "marker": {
             "colorbar": {
              "outlinewidth": 0,
              "ticks": ""
             }
            },
            "type": "scattermapbox"
           }
          ],
          "scatterpolar": [
           {
            "marker": {
             "colorbar": {
              "outlinewidth": 0,
              "ticks": ""
             }
            },
            "type": "scatterpolar"
           }
          ],
          "scatterpolargl": [
           {
            "marker": {
             "colorbar": {
              "outlinewidth": 0,
              "ticks": ""
             }
            },
            "type": "scatterpolargl"
           }
          ],
          "scatterternary": [
           {
            "marker": {
             "colorbar": {
              "outlinewidth": 0,
              "ticks": ""
             }
            },
            "type": "scatterternary"
           }
          ],
          "surface": [
           {
            "colorbar": {
             "outlinewidth": 0,
             "ticks": ""
            },
            "colorscale": [
             [
              0,
              "#0d0887"
             ],
             [
              0.1111111111111111,
              "#46039f"
             ],
             [
              0.2222222222222222,
              "#7201a8"
             ],
             [
              0.3333333333333333,
              "#9c179e"
             ],
             [
              0.4444444444444444,
              "#bd3786"
             ],
             [
              0.5555555555555556,
              "#d8576b"
             ],
             [
              0.6666666666666666,
              "#ed7953"
             ],
             [
              0.7777777777777778,
              "#fb9f3a"
             ],
             [
              0.8888888888888888,
              "#fdca26"
             ],
             [
              1,
              "#f0f921"
             ]
            ],
            "type": "surface"
           }
          ],
          "table": [
           {
            "cells": {
             "fill": {
              "color": "#EBF0F8"
             },
             "line": {
              "color": "white"
             }
            },
            "header": {
             "fill": {
              "color": "#C8D4E3"
             },
             "line": {
              "color": "white"
             }
            },
            "type": "table"
           }
          ]
         },
         "layout": {
          "annotationdefaults": {
           "arrowcolor": "#2a3f5f",
           "arrowhead": 0,
           "arrowwidth": 1
          },
          "autotypenumbers": "strict",
          "coloraxis": {
           "colorbar": {
            "outlinewidth": 0,
            "ticks": ""
           }
          },
          "colorscale": {
           "diverging": [
            [
             0,
             "#8e0152"
            ],
            [
             0.1,
             "#c51b7d"
            ],
            [
             0.2,
             "#de77ae"
            ],
            [
             0.3,
             "#f1b6da"
            ],
            [
             0.4,
             "#fde0ef"
            ],
            [
             0.5,
             "#f7f7f7"
            ],
            [
             0.6,
             "#e6f5d0"
            ],
            [
             0.7,
             "#b8e186"
            ],
            [
             0.8,
             "#7fbc41"
            ],
            [
             0.9,
             "#4d9221"
            ],
            [
             1,
             "#276419"
            ]
           ],
           "sequential": [
            [
             0,
             "#0d0887"
            ],
            [
             0.1111111111111111,
             "#46039f"
            ],
            [
             0.2222222222222222,
             "#7201a8"
            ],
            [
             0.3333333333333333,
             "#9c179e"
            ],
            [
             0.4444444444444444,
             "#bd3786"
            ],
            [
             0.5555555555555556,
             "#d8576b"
            ],
            [
             0.6666666666666666,
             "#ed7953"
            ],
            [
             0.7777777777777778,
             "#fb9f3a"
            ],
            [
             0.8888888888888888,
             "#fdca26"
            ],
            [
             1,
             "#f0f921"
            ]
           ],
           "sequentialminus": [
            [
             0,
             "#0d0887"
            ],
            [
             0.1111111111111111,
             "#46039f"
            ],
            [
             0.2222222222222222,
             "#7201a8"
            ],
            [
             0.3333333333333333,
             "#9c179e"
            ],
            [
             0.4444444444444444,
             "#bd3786"
            ],
            [
             0.5555555555555556,
             "#d8576b"
            ],
            [
             0.6666666666666666,
             "#ed7953"
            ],
            [
             0.7777777777777778,
             "#fb9f3a"
            ],
            [
             0.8888888888888888,
             "#fdca26"
            ],
            [
             1,
             "#f0f921"
            ]
           ]
          },
          "colorway": [
           "#636efa",
           "#EF553B",
           "#00cc96",
           "#ab63fa",
           "#FFA15A",
           "#19d3f3",
           "#FF6692",
           "#B6E880",
           "#FF97FF",
           "#FECB52"
          ],
          "font": {
           "color": "#2a3f5f"
          },
          "geo": {
           "bgcolor": "white",
           "lakecolor": "white",
           "landcolor": "#E5ECF6",
           "showlakes": true,
           "showland": true,
           "subunitcolor": "white"
          },
          "hoverlabel": {
           "align": "left"
          },
          "hovermode": "closest",
          "mapbox": {
           "style": "light"
          },
          "paper_bgcolor": "white",
          "plot_bgcolor": "#E5ECF6",
          "polar": {
           "angularaxis": {
            "gridcolor": "white",
            "linecolor": "white",
            "ticks": ""
           },
           "bgcolor": "#E5ECF6",
           "radialaxis": {
            "gridcolor": "white",
            "linecolor": "white",
            "ticks": ""
           }
          },
          "scene": {
           "xaxis": {
            "backgroundcolor": "#E5ECF6",
            "gridcolor": "white",
            "gridwidth": 2,
            "linecolor": "white",
            "showbackground": true,
            "ticks": "",
            "zerolinecolor": "white"
           },
           "yaxis": {
            "backgroundcolor": "#E5ECF6",
            "gridcolor": "white",
            "gridwidth": 2,
            "linecolor": "white",
            "showbackground": true,
            "ticks": "",
            "zerolinecolor": "white"
           },
           "zaxis": {
            "backgroundcolor": "#E5ECF6",
            "gridcolor": "white",
            "gridwidth": 2,
            "linecolor": "white",
            "showbackground": true,
            "ticks": "",
            "zerolinecolor": "white"
           }
          },
          "shapedefaults": {
           "line": {
            "color": "#2a3f5f"
           }
          },
          "ternary": {
           "aaxis": {
            "gridcolor": "white",
            "linecolor": "white",
            "ticks": ""
           },
           "baxis": {
            "gridcolor": "white",
            "linecolor": "white",
            "ticks": ""
           },
           "bgcolor": "#E5ECF6",
           "caxis": {
            "gridcolor": "white",
            "linecolor": "white",
            "ticks": ""
           }
          },
          "title": {
           "x": 0.05
          },
          "xaxis": {
           "automargin": true,
           "gridcolor": "white",
           "linecolor": "white",
           "ticks": "",
           "title": {
            "standoff": 15
           },
           "zerolinecolor": "white",
           "zerolinewidth": 2
          },
          "yaxis": {
           "automargin": true,
           "gridcolor": "white",
           "linecolor": "white",
           "ticks": "",
           "title": {
            "standoff": 15
           },
           "zerolinecolor": "white",
           "zerolinewidth": 2
          }
         }
        },
        "title": {
         "text": "Primary Import Country by State"
        },
        "width": 1000
       }
      }
     },
     "metadata": {},
     "output_type": "display_data"
    }
   ],
   "source": [
    "fig = px.choropleth(\n",
    "      df_imports\n",
    "    , locations = \"StateAbbr\"\n",
    "    , locationmode = \"USA-states\"\n",
    "    , color = \"Source\"\n",
    "    , scope = \"usa\"\n",
    "    , hover_data = {\"StateAbbr\": False, \"State\": True, \"Source\": True}\n",
    "    #, labels = {\"Source\": \"Target\", \"State\":\"\"}\n",
    "    , title = \"Primary Import Country by State\"\n",
    "    #, width = 1024\n",
    "    #, height = 768\n",
    "    , category_orders = {\"Source\": sorted(pd.unique(df_imports[\"Source\"]))}\n",
    "    #, color_discrete_sequence = px.colors.qualitative.Alphabet[1:]\n",
    "    , color_discrete_sequence = px.colors.qualitative.Light24\n",
    ")\n",
    "\n",
    "fig.update_layout(\n",
    "      width = 1000\n",
    "    , height = 500\n",
    "    , margin = {\"r\": 0, \"t\": 50, \"l\": 0, \"b\": 0}\n",
    ")\n",
    "\n",
    "fig.show()"
   ]
  }
 ],
 "metadata": {
  "kernelspec": {
   "display_name": "base",
   "language": "python",
   "name": "python3"
  },
  "language_info": {
   "codemirror_mode": {
    "name": "ipython",
    "version": 3
   },
   "file_extension": ".py",
   "mimetype": "text/x-python",
   "name": "python",
   "nbconvert_exporter": "python",
   "pygments_lexer": "ipython3",
   "version": "3.11.5"
  }
 },
 "nbformat": 4,
 "nbformat_minor": 2
}
